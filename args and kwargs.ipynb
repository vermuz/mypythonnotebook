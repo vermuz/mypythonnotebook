{
 "cells": [
  {
   "cell_type": "code",
   "execution_count": 2,
   "metadata": {
    "collapsed": false
   },
   "outputs": [
    {
     "name": "stdout",
     "output_type": "stream",
     "text": [
      "('first arg:', 'mani')\n",
      "('arg though *argv', 'ali')\n",
      "('arg though *argv', 'python')\n",
      "('arg though *argv', 'hehe')\n"
     ]
    }
   ],
   "source": [
    "# Usage of *args\n",
    "# *args is used to send a non-keyworded variable length argument list to the function\n",
    "def test_var_args(f_arg, *argv):\n",
    "    print(\"first arg:\", f_arg)\n",
    "    for arg in argv:\n",
    "        print(\"arg though *argv\", arg)\n",
    "        \n",
    "test_var_args('mani', 'ali', 'python', 'hehe')"
   ]
  },
  {
   "cell_type": "code",
   "execution_count": 3,
   "metadata": {
    "collapsed": false
   },
   "outputs": [
    {
     "name": "stdout",
     "output_type": "stream",
     "text": [
      "name = mani\n"
     ]
    }
   ],
   "source": [
    "# Usage of **kwargs\n",
    "# **kwargs allows you to pass keyworded variable length of arguments to a function\n",
    "def greet_test(**kwargs):\n",
    "    for key, value in kwargs.items():\n",
    "        print(\"{0} = {1}\".format(key,value))\n",
    "        \n",
    "greet_test(name=\"mani\")"
   ]
  },
  {
   "cell_type": "code",
   "execution_count": 7,
   "metadata": {
    "collapsed": false
   },
   "outputs": [
    {
     "name": "stdout",
     "output_type": "stream",
     "text": [
      "('arg1:', 'two')\n",
      "('arg2:', 3)\n",
      "('arg3:', 5)\n",
      "----\n",
      "('arg1:', 5)\n",
      "('arg2:', 'two')\n",
      "('arg3:', 3)\n"
     ]
    }
   ],
   "source": [
    "# Function test\n",
    "def test_args_kwargs(arg1, arg2, arg3):\n",
    "    print(\"arg1:\", arg1)\n",
    "    print(\"arg2:\", arg2)\n",
    "    print(\"arg3:\", arg3)\n",
    "    \n",
    "# *args\n",
    "args = (\"two\",3, 5)\n",
    "test_args_kwargs(*args)\n",
    "\n",
    "print(\"----\")\n",
    "\n",
    "# *kwargs\n",
    "kwargs = {\"arg3\": 3, \"arg2\": \"two\", \"arg1\": 5}\n",
    "test_args_kwargs(**kwargs)"
   ]
  },
  {
   "cell_type": "code",
   "execution_count": 8,
   "metadata": {
    "collapsed": true
   },
   "outputs": [],
   "source": [
    "# Monkey patching means modifying some code at runtime"
   ]
  },
  {
   "cell_type": "code",
   "execution_count": null,
   "metadata": {
    "collapsed": true
   },
   "outputs": [],
   "source": [
    "# Class for testing, has a function that calls an API and returns response data, what if the API is not ready,\n",
    "# and we still want to mock the response\n",
    "\n",
    "import someclass\n",
    "\n",
    "def get_info(self, *args):\n",
    "    return \"Test data\"\n",
    "\n",
    "someclass.get_info = get_info"
   ]
  }
 ],
 "metadata": {
  "kernelspec": {
   "display_name": "Python 2",
   "language": "python",
   "name": "python2"
  },
  "language_info": {
   "codemirror_mode": {
    "name": "ipython",
    "version": 2
   },
   "file_extension": ".py",
   "mimetype": "text/x-python",
   "name": "python",
   "nbconvert_exporter": "python",
   "pygments_lexer": "ipython2",
   "version": "2.7.13"
  }
 },
 "nbformat": 4,
 "nbformat_minor": 2
}
